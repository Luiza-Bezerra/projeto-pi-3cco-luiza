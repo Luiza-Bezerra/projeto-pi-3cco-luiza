{
 "cells": [
  {
   "cell_type": "markdown",
   "id": "78de6d0a",
   "metadata": {},
   "source": [
    "# CONFIGURAÇÃO"
   ]
  },
  {
   "cell_type": "code",
   "execution_count": 1,
   "id": "1277f515",
   "metadata": {},
   "outputs": [],
   "source": [
    "from pyspark import SparkConf\n",
    "from pyspark.sql import SparkSession\n",
    "from pyspark.sql import functions as f\n",
    "from datetime import date"
   ]
  },
  {
   "cell_type": "code",
   "execution_count": 2,
   "id": "0923602d",
   "metadata": {},
   "outputs": [
    {
     "name": "stdout",
     "output_type": "stream",
     "text": [
      "08-06-2022-autismo-\n"
     ]
    }
   ],
   "source": [
    "data_atual = date.today().strftime('%d-%m-%Y')\n",
    "FILENAME = f\"{data_atual}-autismo-\""
   ]
  },
  {
   "cell_type": "markdown",
   "id": "3476071e",
   "metadata": {},
   "source": [
    "# LEITURA DE ARQUIVOS"
   ]
  },
  {
   "cell_type": "code",
   "execution_count": 3,
   "id": "10934818",
   "metadata": {},
   "outputs": [
    {
     "data": {
      "text/plain": [
       "<pyspark.conf.SparkConf at 0x7f90cc156bd0>"
      ]
     },
     "execution_count": 3,
     "metadata": {},
     "output_type": "execute_result"
    }
   ],
   "source": [
    "conf = SparkConf()\n",
    "jars = [\n",
    "    'org.apache.hadoop:hadoop-aws:3.2.2', 'com.microsoft.azure:spark-mssql-connector_2.12:1.2.0', \n",
    "    'com.microsoft.sqlserver:mssql-jdbc:7.0.0.jre8',\n",
    "    'com.databricks:spark-xml_2.12:0.14.0'\n",
    "]\n",
    "conf.set('spark.jars.packages', ','.join(jars))\n",
    "conf.set('spark.hadoop.fs.s3a.aws.credentials.provider', 'com.amazonaws.auth.InstanceProfileCredentialsProvider')"
   ]
  },
  {
   "cell_type": "code",
   "execution_count": 4,
   "id": "4030292e",
   "metadata": {},
   "outputs": [
    {
     "name": "stderr",
     "output_type": "stream",
     "text": [
      "WARNING: An illegal reflective access operation has occurred\n",
      "WARNING: Illegal reflective access by org.apache.spark.unsafe.Platform (file:/usr/local/lib/python3.7/site-packages/pyspark/jars/spark-unsafe_2.12-3.2.1.jar) to constructor java.nio.DirectByteBuffer(long,int)\n",
      "WARNING: Please consider reporting this to the maintainers of org.apache.spark.unsafe.Platform\n",
      "WARNING: Use --illegal-access=warn to enable warnings of further illegal reflective access operations\n",
      "WARNING: All illegal access operations will be denied in a future release\n"
     ]
    },
    {
     "name": "stdout",
     "output_type": "stream",
     "text": [
      ":: loading settings :: url = jar:file:/usr/local/lib/python3.7/site-packages/pyspark/jars/ivy-2.5.0.jar!/org/apache/ivy/core/settings/ivysettings.xml\n"
     ]
    },
    {
     "name": "stderr",
     "output_type": "stream",
     "text": [
      "Ivy Default Cache set to: /root/.ivy2/cache\n",
      "The jars for the packages stored in: /root/.ivy2/jars\n",
      "org.apache.hadoop#hadoop-aws added as a dependency\n",
      "com.microsoft.azure#spark-mssql-connector_2.12 added as a dependency\n",
      "com.microsoft.sqlserver#mssql-jdbc added as a dependency\n",
      "com.databricks#spark-xml_2.12 added as a dependency\n",
      ":: resolving dependencies :: org.apache.spark#spark-submit-parent-06d3cda3-fae7-4bf8-b242-39d2d61ad85d;1.0\n",
      "\tconfs: [default]\n",
      "\tfound org.apache.hadoop#hadoop-aws;3.2.2 in central\n",
      "\tfound com.amazonaws#aws-java-sdk-bundle;1.11.563 in central\n",
      "\tfound com.microsoft.azure#spark-mssql-connector_2.12;1.2.0 in central\n",
      "\tfound com.microsoft.sqlserver#mssql-jdbc;8.4.1.jre8 in central\n",
      "\tfound com.databricks#spark-xml_2.12;0.14.0 in central\n",
      "\tfound commons-io#commons-io;2.8.0 in central\n",
      "\tfound org.glassfish.jaxb#txw2;2.3.4 in central\n",
      "\tfound org.apache.ws.xmlschema#xmlschema-core;2.2.5 in central\n",
      ":: resolution report :: resolve 569ms :: artifacts dl 20ms\n",
      "\t:: modules in use:\n",
      "\tcom.amazonaws#aws-java-sdk-bundle;1.11.563 from central in [default]\n",
      "\tcom.databricks#spark-xml_2.12;0.14.0 from central in [default]\n",
      "\tcom.microsoft.azure#spark-mssql-connector_2.12;1.2.0 from central in [default]\n",
      "\tcom.microsoft.sqlserver#mssql-jdbc;8.4.1.jre8 from central in [default]\n",
      "\tcommons-io#commons-io;2.8.0 from central in [default]\n",
      "\torg.apache.hadoop#hadoop-aws;3.2.2 from central in [default]\n",
      "\torg.apache.ws.xmlschema#xmlschema-core;2.2.5 from central in [default]\n",
      "\torg.glassfish.jaxb#txw2;2.3.4 from central in [default]\n",
      "\t:: evicted modules:\n",
      "\tcom.microsoft.sqlserver#mssql-jdbc;7.0.0.jre8 by [com.microsoft.sqlserver#mssql-jdbc;8.4.1.jre8] in [default]\n",
      "\t---------------------------------------------------------------------\n",
      "\t|                  |            modules            ||   artifacts   |\n",
      "\t|       conf       | number| search|dwnlded|evicted|| number|dwnlded|\n",
      "\t---------------------------------------------------------------------\n",
      "\t|      default     |   9   |   0   |   0   |   1   ||   8   |   0   |\n",
      "\t---------------------------------------------------------------------\n",
      ":: retrieving :: org.apache.spark#spark-submit-parent-06d3cda3-fae7-4bf8-b242-39d2d61ad85d\n",
      "\tconfs: [default]\n",
      "\t0 artifacts copied, 8 already retrieved (0kB/12ms)\n",
      "22/06/08 02:34:21 WARN NativeCodeLoader: Unable to load native-hadoop library for your platform... using builtin-java classes where applicable\n",
      "Using Spark's default log4j profile: org/apache/spark/log4j-defaults.properties\n",
      "Setting default log level to \"WARN\".\n",
      "To adjust logging level use sc.setLogLevel(newLevel). For SparkR, use setLogLevel(newLevel).\n"
     ]
    }
   ],
   "source": [
    "spark = SparkSession.builder\\\n",
    "    .appName('load-azure')\\\n",
    "    .config(conf=conf)\\\n",
    "    .getOrCreate()"
   ]
  },
  {
   "cell_type": "code",
   "execution_count": 5,
   "id": "dc4609a2",
   "metadata": {},
   "outputs": [
    {
     "name": "stderr",
     "output_type": "stream",
     "text": [
      "22/06/08 02:34:26 WARN MetricsConfig: Cannot locate configuration: tried hadoop-metrics2-s3a-file-system.properties,hadoop-metrics2.properties\n",
      "                                                                                \r"
     ]
    },
    {
     "name": "stdout",
     "output_type": "stream",
     "text": [
      "DataFrame[id_paciente: string, idade_atual: string, idade_descoberta: string, genero: string, grau: string, sensibilidade_sentidos: string, agressivo: string, hiperativo: string, movimentos_repetitivos: string, baixa_concentracao: string, hiperfoco: string, necessidade_rotina: string, dificuldade_imaginacao: string, introvertido: string, tipo_autismo: string, tipo_autismo_descricao: string]\n"
     ]
    }
   ],
   "source": [
    "person_data = spark.read.csv('s3a://sprint-3-luiza-grupo-09-bucket-brutos/03-06-2022-autismo-csv.csv', header=True)\n",
    "print(person_data)"
   ]
  },
  {
   "cell_type": "code",
   "execution_count": 6,
   "id": "9a6bc143",
   "metadata": {},
   "outputs": [
    {
     "name": "stderr",
     "output_type": "stream",
     "text": [
      "[Stage 1:=============================>                             (1 + 1) / 2]\r"
     ]
    },
    {
     "name": "stdout",
     "output_type": "stream",
     "text": [
      "DataFrame[classe: string, classe_descricao: string, empregado: boolean, id_renda_paciente: bigint, per_capita: double, quantidade_familia: bigint, total_salario: bigint]\n"
     ]
    },
    {
     "name": "stderr",
     "output_type": "stream",
     "text": [
      "\r",
      "                                                                                \r"
     ]
    }
   ],
   "source": [
    "make_data = spark.read.json('s3a://sprint-3-luiza-grupo-09-bucket-brutos/03-06-2022-autismo-json.json')\n",
    "print(make_data)"
   ]
  },
  {
   "cell_type": "code",
   "execution_count": 7,
   "id": "e0099690",
   "metadata": {},
   "outputs": [
    {
     "name": "stderr",
     "output_type": "stream",
     "text": [
      "                                                                                \r"
     ]
    }
   ],
   "source": [
    "region_data =  spark.read.format(\"com.databricks.spark.xml\")\\\n",
    "    .option(\"rootTag\", \"data\") \\\n",
    "    .option(\"rowTag\", \"row\") \\\n",
    "    .load(\"s3a://sprint-3-luiza-grupo-09-bucket-brutos/LE-ESSA-DESGRACA.xml\")\\"
   ]
  },
  {
   "cell_type": "code",
   "execution_count": null,
   "id": "ce0aaeb9",
   "metadata": {},
   "outputs": [],
   "source": [
    "person_data.show(truncate=False, vertical=True)"
   ]
  },
  {
   "cell_type": "code",
   "execution_count": null,
   "id": "64abc17d",
   "metadata": {},
   "outputs": [],
   "source": [
    "make_data.show(truncate=False, vertical=True)"
   ]
  },
  {
   "cell_type": "code",
   "execution_count": null,
   "id": "3be923b2",
   "metadata": {},
   "outputs": [],
   "source": [
    "region_data.show(truncate=False, vertical=True)"
   ]
  },
  {
   "cell_type": "markdown",
   "id": "e6fec8a6",
   "metadata": {},
   "source": [
    "# MANIPULACAO"
   ]
  },
  {
   "cell_type": "code",
   "execution_count": null,
   "id": "53b1b18e",
   "metadata": {},
   "outputs": [],
   "source": [
    "data_referencing = (\n",
    "    person_data\n",
    "        .join(make_data, person_data.id_paciente == make_data.id_renda_paciente)\\\n",
    "        .join(region_data, person_data.id_paciente == region_data.id_regiao_paciente)\\\n",
    "        .select(\n",
    "            person_data.id_paciente,person_data.idade_atual,person_data.idade_descoberta,person_data.genero,\n",
    "            person_data.grau,person_data.sensibilidade_sentidos,person_data.agressivo,person_data.hiperativo,\n",
    "            person_data.movimentos_repetitivos,person_data.baixa_concentracao,person_data.hiperfoco,person_data.necessidade_rotina,\n",
    "            person_data.dificuldade_imaginacao,person_data.introvertido,person_data.tipo_autismo,person_data.tipo_autismo_descricao,\n",
    "            make_data.classe,make_data.classe_descricao,make_data.empregado,make_data.per_capita,make_data.quantidade_familia,\n",
    "            make_data.total_salario,region_data.PIB_nacional,region_data.PIB_percent_BR,region_data.PIB_regional,\n",
    "            region_data.area_regiao,region_data.densidade_demografica_regiao,region_data.gentilico_regiao,region_data.id_regiao_paciente,\n",
    "            region_data.pais,region_data.populacao_regiao,region_data.raca_predominante_regiao,region_data.regiao\n",
    "        )\n",
    ")"
   ]
  },
  {
   "cell_type": "code",
   "execution_count": null,
   "id": "e61e8d2c",
   "metadata": {},
   "outputs": [],
   "source": [
    "data_referencing.printSchema()"
   ]
  },
  {
   "cell_type": "code",
   "execution_count": null,
   "id": "896d35db",
   "metadata": {},
   "outputs": [],
   "source": [
    "data_referencing.show(truncate=False, vertical=True).to_pandas()"
   ]
  },
  {
   "cell_type": "markdown",
   "id": "10de0511",
   "metadata": {},
   "source": [
    "# SALVANDO DADOS NO BUCKET-PROCESSADOS"
   ]
  },
  {
   "cell_type": "code",
   "execution_count": 13,
   "id": "e6f4cb86",
   "metadata": {
    "scrolled": true
   },
   "outputs": [],
   "source": [
    "data_referencing.write.csv(f's3a://sprint-3-luiza-grupo-09-bucket-processados/{FILENAME}_dados_agrupados.csv', header=True)"
   ]
  },
  {
   "cell_type": "markdown",
   "id": "a5a5f788",
   "metadata": {},
   "source": [
    "# CONEXÃO COM AZURE"
   ]
  },
  {
   "cell_type": "code",
   "execution_count": 8,
   "id": "4e3a6eda",
   "metadata": {},
   "outputs": [
    {
     "name": "stdout",
     "output_type": "stream",
     "text": [
      "jdbc:sqlserver://teste-sprint3.database.windows.net:1433;database=teste1000;\n"
     ]
    }
   ],
   "source": [
    "server = \"teste-sprint3.database.windows.net\"\n",
    "port = 1433\n",
    "db = \"teste1000\"\n",
    "username = \"urubu100\"\n",
    "password = \"Urubu1@@\"\n",
    "\n",
    "url = f'jdbc:sqlserver://{server}:1433;database={db};'\n",
    "print(url)"
   ]
  },
  {
   "cell_type": "code",
   "execution_count": 10,
   "id": "53ac4296",
   "metadata": {},
   "outputs": [
    {
     "name": "stderr",
     "output_type": "stream",
     "text": [
      "                                                                                \r"
     ]
    }
   ],
   "source": [
    "person_data.write\\\n",
    "    .format(\"com.microsoft.sqlserver.jdbc.spark\") \\\n",
    "    .option(\"driver\", \"com.microsoft.sqlserver.jdbc.SQLServerDriver\") \\\n",
    "    .mode(\"overwrite\") \\\n",
    "    .option('tableLock', True) \\\n",
    "    .option(\"url\", url) \\\n",
    "    .option(\"dbtable\", 'paciente') \\\n",
    "    .option(\"user\", username) \\\n",
    "    .option(\"password\", password) \\\n",
    "    .save()"
   ]
  },
  {
   "cell_type": "code",
   "execution_count": 11,
   "id": "4d1284ab",
   "metadata": {},
   "outputs": [
    {
     "name": "stderr",
     "output_type": "stream",
     "text": [
      "                                                                                \r"
     ]
    }
   ],
   "source": [
    "make_data.write\\\n",
    "    .format(\"com.microsoft.sqlserver.jdbc.spark\") \\\n",
    "    .option(\"driver\", \"com.microsoft.sqlserver.jdbc.SQLServerDriver\") \\\n",
    "    .mode(\"overwrite\") \\\n",
    "    .option('tableLock', True) \\\n",
    "    .option(\"url\", url) \\\n",
    "    .option(\"dbtable\", 'renda') \\\n",
    "    .option(\"user\", username) \\\n",
    "    .option(\"password\", password) \\\n",
    "    .save()"
   ]
  },
  {
   "cell_type": "code",
   "execution_count": 12,
   "id": "e3e41d8b",
   "metadata": {},
   "outputs": [
    {
     "name": "stderr",
     "output_type": "stream",
     "text": [
      "                                                                                \r"
     ]
    }
   ],
   "source": [
    "region_data.write\\\n",
    "    .format(\"com.microsoft.sqlserver.jdbc.spark\") \\\n",
    "    .option(\"driver\", \"com.microsoft.sqlserver.jdbc.SQLServerDriver\") \\\n",
    "    .mode(\"overwrite\") \\\n",
    "    .option('tableLock', True) \\\n",
    "    .option(\"url\", url) \\\n",
    "    .option(\"dbtable\", 'localidade') \\\n",
    "    .option(\"user\", username) \\\n",
    "    .option(\"password\", password) \\\n",
    "    .save()"
   ]
  }
 ],
 "metadata": {
  "kernelspec": {
   "display_name": "Python 3 (ipykernel)",
   "language": "python",
   "name": "python3"
  },
  "language_info": {
   "codemirror_mode": {
    "name": "ipython",
    "version": 3
   },
   "file_extension": ".py",
   "mimetype": "text/x-python",
   "name": "python",
   "nbconvert_exporter": "python",
   "pygments_lexer": "ipython3",
   "version": "3.7.10"
  }
 },
 "nbformat": 4,
 "nbformat_minor": 5
}
