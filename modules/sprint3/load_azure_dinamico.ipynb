{
 "cells": [
  {
   "cell_type": "markdown",
   "id": "78de6d0a",
   "metadata": {},
   "source": [
    "# CONFIGURAÇÃO"
   ]
  },
  {
   "cell_type": "code",
   "execution_count": null,
   "id": "1277f515",
   "metadata": {},
   "outputs": [],
   "source": [
    "from pyspark import SparkConf\n",
    "from pyspark.sql import SparkSession\n",
    "from pyspark.sql import functions as f\n",
    "from datetime import date"
   ]
  },
  {
   "cell_type": "code",
   "execution_count": null,
   "id": "0923602d",
   "metadata": {},
   "outputs": [],
   "source": [
    "data_atual = date.today().strftime('%d-%m-%Y')\n",
    "FILENAME = f\"{data_atual}-autismo-\""
   ]
  },
  {
   "cell_type": "code",
   "execution_count": null,
   "id": "10934818",
   "metadata": {},
   "outputs": [],
   "source": [
    "conf = SparkConf()\n",
    "jars = [\n",
    "    'org.apache.hadoop:hadoop-aws:3.2.2', 'com.microsoft.azure:spark-mssql-connector_2.12:1.2.0', \n",
    "    'com.microsoft.sqlserver:mssql-jdbc:7.0.0.jre8',\n",
    "    'com.databricks:spark-xml_2.12:0.14.0'\n",
    "]\n",
    "conf.set('spark.jars.packages', ','.join(jars))\n",
    "conf.set('spark.hadoop.fs.s3a.aws.credentials.provider', 'com.amazonaws.auth.InstanceProfileCredentialsProvider')"
   ]
  },
  {
   "cell_type": "code",
   "execution_count": null,
   "id": "4030292e",
   "metadata": {},
   "outputs": [],
   "source": [
    "spark = SparkSession.builder\\\n",
    "    .appName('load-azure')\\\n",
    "    .config(conf=conf)\\\n",
    "    .getOrCreate()"
   ]
  },
  {
   "cell_type": "markdown",
   "id": "3476071e",
   "metadata": {},
   "source": [
    "# LEITURA DE ARQUIVOS"
   ]
  },
  {
   "cell_type": "code",
   "execution_count": null,
   "id": "dc4609a2",
   "metadata": {},
   "outputs": [],
   "source": [
    "person_data = spark.read.csv(f's3a://sprint-3-luiza-grupo-09-bucket-brutos/{FILENAME}-csv.csv', header=True)\n",
    "person_data.show(truncate=False, vertical=True)"
   ]
  },
  {
   "cell_type": "code",
   "execution_count": null,
   "id": "9a6bc143",
   "metadata": {},
   "outputs": [],
   "source": [
    "make_data = spark.read.json(F's3a://sprint-3-luiza-grupo-09-bucket-brutos/{FILENAME}json.json')\n",
    "make_data.show(truncate=False, vertical=True)"
   ]
  },
  {
   "cell_type": "code",
   "execution_count": null,
   "id": "e0099690",
   "metadata": {},
   "outputs": [],
   "source": [
    "region_data =  spark.read.format(\"com.databricks.spark.xml\")\\\n",
    "    .option(\"rootTag\", \"data\") \\\n",
    "    .option(\"rowTag\", \"row\") \\\n",
    "    .load(f\"s3a://sprint-3-luiza-grupo-09-bucket-brutos/{FILENAME}-xml.xml\")\\\n",
    "\n",
    "region_data.show(truncate=False, vertical=True)"
   ]
  },
  {
   "cell_type": "code",
   "execution_count": null,
   "id": "3be923b2",
   "metadata": {},
   "outputs": [],
   "source": []
  },
  {
   "cell_type": "markdown",
   "id": "e6fec8a6",
   "metadata": {},
   "source": [
    "# JOIN DE TABELAS"
   ]
  },
  {
   "cell_type": "code",
   "execution_count": null,
   "id": "53b1b18e",
   "metadata": {},
   "outputs": [],
   "source": [
    "data_referencing = (\n",
    "    person_data\n",
    "        .join(make_data, person_data.id_paciente == make_data.id_renda_paciente)\\\n",
    "        .join(region_data, person_data.id_paciente == region_data.id_regiao_paciente)\\\n",
    "        .select(\n",
    "            person_data.id_paciente,person_data.idade_atual,person_data.idade_descoberta,person_data.genero,\n",
    "            person_data.grau,person_data.sensibilidade_sentidos,person_data.agressivo,person_data.hiperativo,\n",
    "            person_data.movimentos_repetitivos,person_data.baixa_concentracao,person_data.hiperfoco,person_data.necessidade_rotina,\n",
    "            person_data.dificuldade_imaginacao,person_data.introvertido,person_data.tipo_autismo,person_data.tipo_autismo_descricao,\n",
    "            make_data.classe,make_data.classe_descricao,make_data.empregado,make_data.per_capita,make_data.quantidade_familia,\n",
    "            make_data.total_salario,region_data.PIB_nacional,region_data.PIB_percent_BR,region_data.PIB_regional,\n",
    "            region_data.area_regiao,region_data.densidade_demografica_regiao,region_data.gentilico_regiao,region_data.id_regiao_paciente,\n",
    "            region_data.pais,region_data.populacao_regiao,region_data.raca_predominante_regiao,region_data.regiao\n",
    "        )\n",
    ")"
   ]
  },
  {
   "cell_type": "code",
   "execution_count": null,
   "id": "e61e8d2c",
   "metadata": {},
   "outputs": [],
   "source": [
    "data_referencing.printSchema()"
   ]
  },
  {
   "cell_type": "code",
   "execution_count": null,
   "id": "896d35db",
   "metadata": {},
   "outputs": [],
   "source": [
    "data_referencing.show(truncate=False, vertical=True).to_pandas()"
   ]
  },
  {
   "cell_type": "markdown",
   "id": "10de0511",
   "metadata": {},
   "source": [
    "# SALVANDO DADOS NO BUCKET-PROCESSADOS"
   ]
  },
  {
   "cell_type": "code",
   "execution_count": null,
   "id": "e6f4cb86",
   "metadata": {
    "scrolled": true
   },
   "outputs": [],
   "source": [
    "data_referencing.write.csv(f's3a://sprint-3-luiza-grupo-09-bucket-processados/{FILENAME}_dados_agrupados.csv', header=True)"
   ]
  },
  {
   "cell_type": "markdown",
   "id": "a5a5f788",
   "metadata": {},
   "source": [
    "# CONEXÃO COM AZURE"
   ]
  },
  {
   "cell_type": "code",
   "execution_count": null,
   "id": "4e3a6eda",
   "metadata": {},
   "outputs": [],
   "source": [
    "server = \"teste-sprint3.database.windows.net\"\n",
    "port = 1433\n",
    "db = \"teste1000\"\n",
    "username = \"urubu100\"\n",
    "password = \"Urubu1@@\"\n",
    "\n",
    "url = f'jdbc:sqlserver://{server}:1433;database={db};'\n",
    "print(url)"
   ]
  },
  {
   "cell_type": "code",
   "execution_count": null,
   "id": "53ac4296",
   "metadata": {},
   "outputs": [],
   "source": [
    "person_data.write\\\n",
    "    .format(\"com.microsoft.sqlserver.jdbc.spark\") \\\n",
    "    .option(\"driver\", \"com.microsoft.sqlserver.jdbc.SQLServerDriver\") \\\n",
    "    .mode(\"overwrite\") \\\n",
    "    .option('tableLock', True) \\\n",
    "    .option(\"url\", url) \\\n",
    "    .option(\"dbtable\", 'paciente') \\\n",
    "    .option(\"user\", username) \\\n",
    "    .option(\"password\", password) \\\n",
    "    .save()"
   ]
  },
  {
   "cell_type": "code",
   "execution_count": null,
   "id": "4d1284ab",
   "metadata": {},
   "outputs": [],
   "source": [
    "make_data.write\\\n",
    "    .format(\"com.microsoft.sqlserver.jdbc.spark\") \\\n",
    "    .option(\"driver\", \"com.microsoft.sqlserver.jdbc.SQLServerDriver\") \\\n",
    "    .mode(\"overwrite\") \\\n",
    "    .option('tableLock', True) \\\n",
    "    .option(\"url\", url) \\\n",
    "    .option(\"dbtable\", 'renda') \\\n",
    "    .option(\"user\", username) \\\n",
    "    .option(\"password\", password) \\\n",
    "    .save()"
   ]
  },
  {
   "cell_type": "code",
   "execution_count": null,
   "id": "e3e41d8b",
   "metadata": {},
   "outputs": [],
   "source": [
    "region_data.write\\\n",
    "    .format(\"com.microsoft.sqlserver.jdbc.spark\") \\\n",
    "    .option(\"driver\", \"com.microsoft.sqlserver.jdbc.SQLServerDriver\") \\\n",
    "    .mode(\"overwrite\") \\\n",
    "    .option('tableLock', True) \\\n",
    "    .option(\"url\", url) \\\n",
    "    .option(\"dbtable\", 'localidade') \\\n",
    "    .option(\"user\", username) \\\n",
    "    .option(\"password\", password) \\\n",
    "    .save()"
   ]
  }
 ],
 "metadata": {
  "interpreter": {
   "hash": "de353ccefffa8d20db2f94776a4d86434b1662aaae9d06162751f8158ae58bb4"
  },
  "kernelspec": {
   "display_name": "Python 3.10.2 ('venv': venv)",
   "language": "python",
   "name": "python3"
  },
  "language_info": {
   "codemirror_mode": {
    "name": "ipython",
    "version": 3
   },
   "file_extension": ".py",
   "mimetype": "text/x-python",
   "name": "python",
   "nbconvert_exporter": "python",
   "pygments_lexer": "ipython3",
   "version": "3.10.2"
  }
 },
 "nbformat": 4,
 "nbformat_minor": 5
}
