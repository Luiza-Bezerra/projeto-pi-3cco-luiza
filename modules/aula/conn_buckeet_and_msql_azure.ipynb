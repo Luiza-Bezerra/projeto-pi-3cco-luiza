{
 "cells": [
  {
   "cell_type": "code",
   "execution_count": null,
   "id": "cccee147",
   "metadata": {},
   "outputs": [],
   "source": [
    "#iniciar spark\n",
    "from pyspark import SparkConf\n",
    "from pyspark.sql import SparkSession\n",
    "\n",
    "conf = SparkConf()\n",
    "#conf.set('spark.jars.packages', 'org.apache.hadoop:hadoop-aws:3.2.2')\n",
    "conf.set('spark.jars.packages', 'org.apache.hadoop:hadoop-aws:3.2.2,com.microsoft.azure:spark-mssql-connector_2.12:1.2.0')\n",
    "conf.set('spark.hadoop.fs.s3a.aws.credentials.provider', 'com.amazonaws.auth.InstanceProfileCredentialsProvider')\n",
    "spark = SparkSession.builder.config(conf=conf).getOrCreate()"
   ]
  },
  {
   "cell_type": "code",
   "execution_count": null,
   "id": "65b46096",
   "metadata": {
    "scrolled": true
   },
   "outputs": [],
   "source": [
    "df = spark.read.option('delimiter', ';').option('header', 'true').csv('s3a://marise-3cco/vendas_anuais.csv')"
   ]
  },
  {
   "cell_type": "code",
   "execution_count": null,
   "id": "57cdc30d",
   "metadata": {},
   "outputs": [],
   "source": [
    "df.show()"
   ]
  },
  {
   "cell_type": "code",
   "execution_count": null,
   "id": "51f478df",
   "metadata": {},
   "outputs": [],
   "source": [
    "from pyspark.sql.functions import col\n",
    "from pyspark.sql.types import IntegerType\n",
    "\n",
    "_df = df.select(\n",
    "    col('id_cliente').cast(IntegerType()).alias('ID_CLIENTE'),\n",
    "    col('total_vendas').cast(IntegerType()).alias('TOTAL_VENDAS'),\n",
    "    col('numero_pedidos').cast(IntegerType()).alias('NUMERO_PEDIDOS'),\n",
    "    col('perfil').alias('PERFIL')\n",
    ")\n",
    "\n",
    "_df.write \\\n",
    "   .mode('overwrite') \\\n",
    "   .csv('s3a://marise-3cco/vendas_anuais')\n",
    "\n",
    "_df.write \\\n",
    " .format('com.microsoft.sqlserver.jdbc.spark') \\\n",
    " .mode('overwrite') \\\n",
    " .option('driver', 'com.microsoft.sqlserver.jdbc.SQLServerDriver') \\\n",
    " .option('url', 'jdbc:sqlserver://bd-dw-01.database.windows.net;databaseName=BD-DW;') \\\n",
    " .option('dbtable', 'VENDAS_ANUAIS') \\\n",
    " .option('user', 'urubu100') \\\n",
    " .option('password', 'Urubu1@@') \\\n",
    " .save()"
   ]
  },
  {
   "cell_type": "code",
   "execution_count": null,
   "id": "ce382804",
   "metadata": {},
   "outputs": [],
   "source": []
  },
  {
   "cell_type": "code",
   "execution_count": null,
   "id": "8592280d",
   "metadata": {},
   "outputs": [],
   "source": []
  }
 ],
 "metadata": {
  "kernelspec": {
   "display_name": "Python 3 (ipykernel)",
   "language": "python",
   "name": "python3"
  },
  "language_info": {
   "codemirror_mode": {
    "name": "ipython",
    "version": 3
   },
   "file_extension": ".py",
   "mimetype": "text/x-python",
   "name": "python",
   "nbconvert_exporter": "python",
   "pygments_lexer": "ipython3",
   "version": "3.7.10"
  }
 },
 "nbformat": 4,
 "nbformat_minor": 5
}
